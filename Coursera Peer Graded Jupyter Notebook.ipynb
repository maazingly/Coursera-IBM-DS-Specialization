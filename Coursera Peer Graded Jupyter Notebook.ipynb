{
 "cells": [
  {
   "cell_type": "markdown",
   "metadata": {},
   "source": [
    "# Jupyter Notebook - Coursera Peer-graded Assignment"
   ]
  },
  {
   "cell_type": "markdown",
   "metadata": {},
   "source": [
    "**Maaz, Student**"
   ]
  },
  {
   "cell_type": "markdown",
   "metadata": {},
   "source": [
    "*I am interested in Data Science as I am looking forward to expand my skills in this wonderful field, tagged as one of the most demanding one, I believe the field of Data Science has a potential to create new breakthroughs in different fields and change the world.*"
   ]
  },
  {
   "cell_type": "markdown",
   "metadata": {},
   "source": [
    "### The code in the cell below converts the figures from the array to the exact number of messages in millions..."
   ]
  },
  {
   "cell_type": "code",
   "execution_count": 5,
   "metadata": {},
   "outputs": [
    {
     "name": "stdout",
     "output_type": "stream",
     "text": [
      "Messages in Millions\n",
      "-----------\n",
      "2260000 messages\n",
      "19100000 messages\n",
      "25600000 messages\n",
      "233000000 messages\n",
      "15200000 messages\n",
      "22700000 messages\n",
      "64599999 messages\n",
      "87500000 messages\n",
      "6810000 messages\n",
      "6000000 messages\n"
     ]
    }
   ],
   "source": [
    "messagesinmillion = [2.26, 19.1, 25.6, 233, 15.2, 22.7, 64.6, 87.5, 6.81, 6]\n",
    "\n",
    "print('Messages in Millions')\n",
    "print('-----------')\n",
    "\n",
    "for count_mil in messagesinmillion:\n",
    "    count = int(count_mil * 1000000) # The figures from the array are multiplied by 1000000 to obtain the exact number of msgs and stored in the variable 'count'.\n",
    "    print('{} messages'.format(count))\n"
   ]
  },
  {
   "cell_type": "markdown",
   "metadata": {},
   "source": [
    ">Here's an example of Blockquote "
   ]
  },
  {
   "cell_type": "markdown",
   "metadata": {},
   "source": [
    "###### Here's how to use Blockquote in markdown :)\n",
    "\n",
    "<ol>\n",
    "<li>First create a new cell.</li>\n",
    "<li>Change the cell type to \"Markdown\" from the drop-down list.</li>\n",
    "<li>Select the cell you created and use a '>' (greater than) symbol before writing the text you want in Blockquote (without spaces).</li>\n",
    "<li>Example : >Hello World to put the text \"Hello World\" in blockquote. (I have omitted it for this cell but following that will get that job done). </li>\n",
    "</ol>\n",
    "\n",
    ">Thank you, have a nice day! "
   ]
  }
 ],
 "metadata": {
  "kernelspec": {
   "display_name": "Python 3",
   "language": "python",
   "name": "python3"
  },
  "language_info": {
   "codemirror_mode": {
    "name": "ipython",
    "version": 3
   },
   "file_extension": ".py",
   "mimetype": "text/x-python",
   "name": "python",
   "nbconvert_exporter": "python",
   "pygments_lexer": "ipython3",
   "version": "3.8.5"
  }
 },
 "nbformat": 4,
 "nbformat_minor": 4
}
